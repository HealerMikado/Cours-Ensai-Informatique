{
 "cells": [
  {
   "cell_type": "markdown",
   "metadata": {
    "nbpresent": {
     "id": "903e3f4b-e8a7-4353-ad56-20e309b2a120"
    }
   },
   "source": [
    "# Algorithmique et compléxité\n",
    "\n",
    "> Ce support de cours est un notebook python. C'est ainsi un support intéractif. Vous pouvez lancer chaque bloc de code via le bouton play en haut de la page une fois le bloc sélectionné. Vous pouvez même (et c'est l'intérêt principal pour un cours) altérer le code ou insérer de nouvelle cellule de code (bandeau en haut > insert > ...) pour faire des tests.\n",
    "\n",
    "## Pyhton en général\n",
    "\n",
    "Python est un langage de programmation multi paradigme (imperatif, fonctionnel, objet). Crée par Guido van Rossum ) partir des années 1990, il a vu sa popularité exploser dans les dernières années grâce à sa simplicité, son efficacité. Mais c'est surtout dans les data science où il brille aujourd'hui. Du fait que ce soit un langage de programmation il permet plus de liberté que R dans la création de programme. Et comme c'est un langage libre avec une communauté active il existe de nombreuses bibliothèques pour faire un peu tout et n'importe quoi en python.\n",
    "\n",
    "Pour votre culture, il existe plusieurs implémentations du python. Les plus connues sont CPython (écrit en C, et c'est l'implémentation stantard) et PyPy (écrit en Python et ça c'est beau !). La grande différence entre les deux est que CPython va compiler en bytecode votre programme avant de l'interpréter, alors que PyPy l'interpréte juste. Cela va influer sur les performances de votre programme."
   ]
  },
  {
   "cell_type": "markdown",
   "metadata": {
    "nbpresent": {
     "id": "af16b9b6-c6f3-4e59-9f14-a4390616ca32"
    }
   },
   "source": [
    "## L'algorthmique\n",
    "\n",
    "Bien qu'appliqué au langage Python, les notions de la partie qui suit ne sont pas spécifique à Python. Certes les syntaxes le sont, mais les idées sous jacentes ([variables](#Les-variables), [structure de contrôle](#Les-structures-de-contrôle-du-flux), [Les fonctions](#Les-fonctions) et la récursivité) elles sont applicables pour tous langage impératif, et la description d'algorithme en générale.\n",
    "\n",
    "Petit point vocabulaire :\n",
    "- Algorithme : Ensemble d'opérations élémentaires dans le but de résoudre un problème.\n",
    "  - pas forcément informatique\n",
    "  - pas forcément implémenté\n",
    "- Programme informatique : l'implémentation informatique d'un algorithme\n",
    "- Script : programme informatique qu'on fait que lancer avec peut d'intéraction avec l'utilisateur (abus de langage).\n",
    "\n",
    "## Les variables\n",
    "\n",
    "Un programme Pyhton accède aux données via des **references**. Une référence est un simple \"nom\" auquel est lié une donnée. Il y en a plusieurs type :\n",
    "\n",
    "- **variables**\n",
    "- attributs (discuté plus longtemps lors du cours de programmation orientée objet)\n",
    "- items (on va en reparler)\n",
    "\n",
    "### Déclaration\n",
    "\n",
    "A la différence d'autres langages, en python il n'y a pas de syntaxe spécifique à la déclaration d'une variable. Vous avez juste à écrire le nom de votre variables et lui lié une valeur. Vous pouvez également si vous le souhaitez lié une nouvelle valeur à une variable déjà existante.\n",
    "\n",
    "Voici quelques exemples de base"
   ]
  },
  {
   "cell_type": "code",
   "execution_count": null,
   "metadata": {
    "nbpresent": {
     "id": "c1e50094-2f12-4758-ad16-f6ba71e5ccf1"
    }
   },
   "outputs": [],
   "source": [
    "# Je met une nouvelle valeur dans matiere\n",
    "matiere = 0\n",
    "matiere"
   ]
  },
  {
   "cell_type": "code",
   "execution_count": null,
   "metadata": {
    "nbpresent": {
     "id": "f89bf1e3-5a92-467a-b3c3-d3ecae8351c5"
    }
   },
   "outputs": [],
   "source": [
    "# Je supprime la référence à matière (cela va lever une erreur)\n",
    "del(matiere)\n",
    "matiere"
   ]
  },
  {
   "cell_type": "code",
   "execution_count": null,
   "metadata": {
    "nbpresent": {
     "id": "aca316ee-7ab2-4070-b83f-6c42e0b9237f"
    }
   },
   "outputs": [],
   "source": [
    "# Définition d'une variable de type int\n",
    "annee = 2019\n",
    "annee"
   ]
  },
  {
   "cell_type": "code",
   "execution_count": null,
   "metadata": {
    "nbpresent": {
     "id": "a2702d5d-b86b-4ffa-a35c-128c947740ef"
    }
   },
   "outputs": [],
   "source": [
    "# Définition d'une variable de type booléen\n",
    "estInterssante = True\n",
    "estInterssante"
   ]
  },
  {
   "cell_type": "markdown",
   "metadata": {
    "nbpresent": {
     "id": "1621a7fc-0ec7-4cbc-a62a-c787d1e6171a"
    }
   },
   "source": [
    "### Les types de données\n",
    "\n",
    "Il existe une grande varieté de type de variable en python, voici une petit liste\n",
    "\n",
    "- Type numérique\n",
    "    - integer (nombre entier, potentiellement infini)\n",
    "    - float (décimal avec une précision de 53²)\n",
    "    - complex\n",
    "- str (string, chaîne de caractère)\n",
    "- tuple (séquence ordonnée non mutable d'objet )\n",
    "- list (séquence ordonnée mutable d'objet)\n",
    "- set (séquence ordonnée non mutable d'objet unique)\n",
    "- dictionnaire (collection de couple clef-valeur)\n",
    "- booléen (true/false)\n",
    "\n",
    "#### Les types numériques\n",
    "\n",
    "Comme noté au dessus, il existe plusieurs types de données numériques en python, chacun avec des spécificités.\n",
    "\n",
    "##### Integer\n",
    "\n",
    "Les integers représentent un nombre entier (positif ou négatif). Ils ne sont pas bornés (donc potentiellement infini si vous avez une mémoire infinie), et peuvent être reprénsenté de différentes formes\n",
    "\n",
    "- litérallement (la forme la plus usuelle. Exemple 42, 12, 1456)\n",
    "- sous forme binaire (0b101010, 0b110, 0b10110110000)\n",
    "- sous forme octal (0o52, 0o14, 0o2660 )\n",
    "- sous forme hexadecimal (0x2A, 0xC, 0c5B0) \n",
    "\n",
    "Je ne vous cache pas que la première forme sera la plus utilisée.\n",
    "\n",
    "##### Float\n",
    "\n",
    "Les floats (floating point) reprénsentent un nombre décimal. Ils ont une précision de 53² et peuvent s'écrire soit avec un . ou avec un suffixe *e* pour les puissances de 10\n",
    "\n",
    "- 0., 0.1, .2\n",
    "- 1e10, 231e-5\n",
    "\n",
    "##### Complex\n",
    "\n",
    "Les complexs représentent un nombre complexes. Se définissent comme les floats avec un préfixe j à la fin pour la partie imaginaire.\n",
    "\n",
    "- 2j, 0.3j, 23e-1j : uniquement imaginaire\n",
    "- 1+2j, 0.3 + 1e-6j : partie réelle et imaginaire\n",
    "\n",
    "##### Opérations sur les types numériques\n",
    "\n",
    "Voici quelques opération sur des types numériques"
   ]
  },
  {
   "cell_type": "code",
   "execution_count": null,
   "metadata": {
    "nbpresent": {
     "id": "943b6c7a-3e21-49b5-b8d5-3cba6429242a"
    },
    "scrolled": true
   },
   "outputs": [],
   "source": [
    "a = 10\n",
    "b = 1\n",
    "c = a + b\n",
    "c"
   ]
  },
  {
   "cell_type": "code",
   "execution_count": null,
   "metadata": {
    "nbpresent": {
     "id": "6033e9c0-7176-4d2f-88fa-5f18ce6496b5"
    }
   },
   "outputs": [],
   "source": [
    "d = a - b\n",
    "d"
   ]
  },
  {
   "cell_type": "code",
   "execution_count": null,
   "metadata": {
    "nbpresent": {
     "id": "fb1030b3-5a75-4344-a8c7-855dd35ae7e8"
    }
   },
   "outputs": [],
   "source": [
    "nombre = 23\n",
    "diviseur = 5\n",
    "\n",
    "quotient = nombre // diviseur\n",
    "reste = nombre % diviseur\n",
    "\n",
    "\"Le résultat de la division euclidienne de %s par %s est %s avec un reste de %s\" % (nombre, diviseur, quotient, reste)"
   ]
  },
  {
   "cell_type": "code",
   "execution_count": null,
   "metadata": {
    "nbpresent": {
     "id": "da764729-446f-4ed0-be49-75b438b3ede1"
    }
   },
   "outputs": [],
   "source": [
    "a = 0.3\n",
    "b = 0.1\n",
    "a-b"
   ]
  },
  {
   "cell_type": "markdown",
   "metadata": {
    "nbpresent": {
     "id": "45248c60-01e7-489f-9401-9386644b1cbe"
    }
   },
   "source": [
    "Le code au dessus montre le problèmes de la précision des calculs avec les float en python (mais c'est pas le seul langage avec ce genre de problème). Pour pallier à ce genre d'erreur il faut utilisler le module décimal (on va repaler des module plus tard)"
   ]
  },
  {
   "cell_type": "code",
   "execution_count": null,
   "metadata": {
    "nbpresent": {
     "id": "22278cec-b7d5-42dd-94a2-2f782167a587"
    }
   },
   "outputs": [],
   "source": [
    "from decimal import *\n",
    "Decimal('0.3') - Decimal('0.1')"
   ]
  },
  {
   "cell_type": "markdown",
   "metadata": {
    "nbpresent": {
     "id": "f80a48c7-bb00-49f7-8bd8-65fd9191a4bb"
    }
   },
   "source": [
    "Je ne vais pas faire la liste de toutes les opérations sur les types numérique possibles car ce n'est pas intéressant. Garder en tête que toutes les opérations de bases sont possibles et qu'internet est votre ami."
   ]
  },
  {
   "cell_type": "markdown",
   "metadata": {
    "nbpresent": {
     "id": "7f028724-cc7e-4002-b78b-b5439d4dcf29"
    }
   },
   "source": [
    "#### Les chaînes de caractères (string ou str)\n",
    "\n",
    "Les chaînes de caractères représentent un texte en python. Ils doivent être défini entre \" ou '. Certains opérateurs agissent différement sur les chaînes de caractères\n",
    "\n",
    "- \\+ : concaténation\n",
    "- \\* : répétition\n",
    "- [] : indexation\n",
    "\n",
    "Quelques exemples"
   ]
  },
  {
   "cell_type": "code",
   "execution_count": null,
   "metadata": {
    "nbpresent": {
     "id": "65ce711f-c989-46f4-a0f6-76e573bc8ec2"
    }
   },
   "outputs": [],
   "source": [
    "twilight = \"Twilight Sparkle\"\n",
    "pinkie = \"Pinkie Pie\"\n",
    "\n",
    "concatenation = twilight + pinkie\n",
    "concatenation"
   ]
  },
  {
   "cell_type": "code",
   "execution_count": null,
   "metadata": {
    "nbpresent": {
     "id": "59c46ae0-970e-4157-a7eb-f534345d76d8"
    }
   },
   "outputs": [],
   "source": [
    "repetition = pinkie * 3\n",
    "repetition"
   ]
  },
  {
   "cell_type": "code",
   "execution_count": null,
   "metadata": {
    "nbpresent": {
     "id": "ee650928-9a9f-44db-a804-8af9715c3e7b"
    }
   },
   "outputs": [],
   "source": [
    "pinkie[2]"
   ]
  },
  {
   "cell_type": "markdown",
   "metadata": {
    "nbpresent": {
     "id": "4d707996-4646-4a3d-b36a-f213478943f5"
    }
   },
   "source": [
    "#### Les listes\n",
    "\n",
    "La liste (list) est un des types de variable le plus utilisé en python. C'est un tableau **ordonné**, **dynamique** d'élements qui peuvent être de type différents. Pour définir une liste il faut utiliser les []"
   ]
  },
  {
   "cell_type": "code",
   "execution_count": null,
   "metadata": {
    "nbpresent": {
     "id": "f0589e78-7214-42c2-a745-9dbf5ed89c91"
    }
   },
   "outputs": [],
   "source": [
    "maList = [1,2,3, \"Twilight Sparkle\"] #Définition\n",
    "print(\"défintion\", maList)\n",
    "\n",
    "#Accès aux éléments\n",
    "print (\"Voici l'élément à l'indice 3\", maList[3])\n",
    "print (\"Voici le dernier élément\", maList[-1])\n",
    "print (\"Voici une sous liste de la liste\", maList[1:3])\n",
    "\n",
    "\n",
    "\n",
    "maList.append(True) #Ajout d'un élément\n",
    "print(\"ajout\", maList)\n",
    "maList[len(maList):] = [\"Appeljack\"]  #Ajout d'un élément autre manière\n",
    "print(\"ajout\", maList)\n",
    "\n",
    "print(\"Ma liste contient\", len(maList), \"éléments\")\n",
    "\n",
    "maList[1] = \"Pinkie Pie\" #je modifie l'élément d'index 1 (donc le second)\n",
    "print(\"modification\", maList)\n",
    "\n",
    "otherList = [\"Starlight Glimmer\", \"Trixie Lunamoon\"]\n",
    "maList.extend(otherList) #concaténation de listes\n",
    "print(\"concaténation\",maList)\n",
    "\n",
    "maList.pop(0) #retire l'élément d'indice 0\n",
    "print(\"retirer élément\", maList)"
   ]
  },
  {
   "cell_type": "markdown",
   "metadata": {
    "nbpresent": {
     "id": "1357def4-5363-4ab1-9928-0bd66e57245c"
    }
   },
   "source": [
    "Les listes sont des variables très souples qui peuvent contenir beaucoup de choses et très facile d'utilsattion. Un peu plus tard on va voir comment itérer sur les éléments d'une liste pour éxécuter des opérations sur chaque élément.\n",
    "\n",
    "En plus de la version manuelle de création d'une liste, python permet également de créer une liste de manière un peu plus automatique. Par exemple si je veux créer une liste avec les 10 premiers multiples de 3 voici une syntaxe plus rapide qu'écrire tous les nombres à la main"
   ]
  },
  {
   "cell_type": "code",
   "execution_count": null,
   "metadata": {
    "nbpresent": {
     "id": "2bdda7ad-1689-443b-94be-68180640b709"
    },
    "scrolled": true
   },
   "outputs": [],
   "source": [
    "listAuto = [i*3 for i in range(10)]\n",
    "listAuto"
   ]
  },
  {
   "cell_type": "markdown",
   "metadata": {
    "nbpresent": {
     "id": "c4b50b1e-8774-4d80-a4cb-39c218812d71"
    }
   },
   "source": [
    "**Attention** du fait qu'une liste soit une variable *mutable* l'opérateur \"=\" fonctionne par référence (on ne passe pas une valeur, mais une référence mémoire). Cela peut vous apporter quelques supprise"
   ]
  },
  {
   "cell_type": "code",
   "execution_count": null,
   "metadata": {
    "nbpresent": {
     "id": "42f52376-5684-4ebe-a507-cf8862041768"
    },
    "scrolled": true
   },
   "outputs": [],
   "source": [
    "maineSix = [\"Twilght Sparkle\", \"Pinkie Pie\", \"Rainbow Dash\", \"Rarity\", \"Applejack\", \"Fluttershy\"] # ma liste de base\n",
    "lesSix = maineSix # je passe ma liste par référence dans une autre variable\n",
    "maineSixBis = maineSix[:] # je copie tous les éléments de ma liste dans une autre liste\n",
    "maineSix.pop()\n",
    "print(maineSix)\n",
    "print(lesSix)\n",
    "print(maineSixBis)"
   ]
  },
  {
   "cell_type": "markdown",
   "metadata": {
    "nbpresent": {
     "id": "83da1792-c377-44d8-ac3c-40c21327045c"
    }
   },
   "source": [
    "#### Les booléens\n",
    "\n",
    "Les booléens (boolean) représente une valeur True ou False. Sauf qu'en python tout type de donnée peut être utilisé / converti comme un booléen. Toute variable non égale à 0 ou vide vaut pour une valeur vrai, alors que 0, None ou un container (list, set, dictionnaire) vide vaut pour False"
   ]
  },
  {
   "cell_type": "code",
   "execution_count": null,
   "metadata": {
    "nbpresent": {
     "id": "35a11e75-90ac-4d57-8597-e6f074fcb3ce"
    }
   },
   "outputs": [],
   "source": [
    "1==True"
   ]
  },
  {
   "cell_type": "code",
   "execution_count": null,
   "metadata": {
    "nbpresent": {
     "id": "4715ff15-3535-411a-8b02-db85f4b68d5e"
    }
   },
   "outputs": [],
   "source": [
    "bool(2)"
   ]
  },
  {
   "cell_type": "code",
   "execution_count": null,
   "metadata": {
    "nbpresent": {
     "id": "b090cb95-37fb-4122-9b2a-924cf22eb170"
    }
   },
   "outputs": [],
   "source": [
    "bool(0)"
   ]
  },
  {
   "cell_type": "code",
   "execution_count": null,
   "metadata": {
    "nbpresent": {
     "id": "9ba6f955-855f-4afb-b7a3-8618c49e9bd1"
    }
   },
   "outputs": [],
   "source": [
    "bool([])"
   ]
  },
  {
   "cell_type": "code",
   "execution_count": null,
   "metadata": {
    "nbpresent": {
     "id": "b083747c-10ab-455c-a47e-954e1fd28ccf"
    }
   },
   "outputs": [],
   "source": [
    "bool(maineSix)"
   ]
  },
  {
   "cell_type": "markdown",
   "metadata": {},
   "source": [
    "#### Les dictionnaires\n",
    "\n",
    "Autre type de données très pratique en Python, les dictionnaires permettent de stocker des couples clefs-valeurs de données et d'accèder facilement aux valeur quand on connait la clef. Voici un exemple :"
   ]
  },
  {
   "cell_type": "code",
   "execution_count": null,
   "metadata": {},
   "outputs": [],
   "source": [
    "applejack = {\n",
    "    \"nom\" : \"Applejack\",\n",
    "    \"race\" : \"poney terrestre\",\n",
    "    \"cutie mark\" : \"3 pommes\",\n",
    "    \"age\" : 18\n",
    "}\n",
    "\n",
    "print(applejack[\"nom\"])\n",
    "print(applejack[\"age\"])"
   ]
  },
  {
   "cell_type": "markdown",
   "metadata": {},
   "source": [
    "Il est également possible d'inclure les dictionnaires les uns dans les autres."
   ]
  },
  {
   "cell_type": "code",
   "execution_count": null,
   "metadata": {},
   "outputs": [],
   "source": [
    "communauteDeLAnneau={\n",
    "    \"Aragorn\" : {\n",
    "        \"classe\" : \"Rodeur\",\n",
    "        \"race\" : \"Humain\"\n",
    "    },\n",
    "    \"Gmili\" : {\n",
    "        \"classe\" : \"Guerrier\",\n",
    "        \"race\" : \"Nain\"\n",
    "    }\n",
    "}\n",
    "communauteDeLAnneau[\"Aragorn\"][\"race\"]"
   ]
  },
  {
   "cell_type": "markdown",
   "metadata": {},
   "source": [
    "Un dictionnaire peut avoir des clefs de type différent, mais elles doivent toutes avoir une fonction de [hash](https://fr.wikipedia.org/wiki/Fonction_de_hachage)."
   ]
  },
  {
   "cell_type": "markdown",
   "metadata": {
    "nbpresent": {
     "id": "16b8859a-eb9d-43f0-9a46-a11feb6b58dc"
    }
   },
   "source": [
    "### Mutable / non mutable quoi que qu'est-ce ?\n",
    "\n",
    "Voici une petite explication sur le concept de mutabilité. Ceci est une notion un peu fine d'informatique donc si vous ne la comprenez pas de suite ce n'est pas grave.\n",
    "\n",
    "En python (et plus généralement en langage informatique), la mutablilité représente la capacité à être modifié. Donc un objet mutable est une objet que l'on va pouvoir modifié alors qu'un objet non mutable ne pourra pas l'être.\n",
    "\n",
    "\"Cela veut dire qu'une fois une variable non mutable créee je ne vais pas pouvoir la modifier ?\"\n",
    "\n",
    "Oui et non. En effet vous n'allez pas pouvoir la modifier, par contre vous allez pouvoir lui lier une nouvelle valeur sans problème. Petit exemple :"
   ]
  },
  {
   "cell_type": "code",
   "execution_count": null,
   "metadata": {},
   "outputs": [],
   "source": [
    "Twilight = \"twilight Sparkle\"\n",
    "Twilight[0] = \"T\" #Je prend l'élément à l'indice 0 de ma chaîne et je lui met une autre valeur"
   ]
  },
  {
   "cell_type": "markdown",
   "metadata": {},
   "source": [
    "Vous devez obtenir l'erreur\n",
    "```\n",
    "TypeError: 'str' object does not support item assignment\n",
    "```\n",
    "Cela provient du fait que les chaîne de caractères ne sont pas mutable\n",
    "\n",
    "Un autre exemple où je vais utiliser les références mémoire"
   ]
  },
  {
   "cell_type": "code",
   "execution_count": null,
   "metadata": {
    "nbpresent": {
     "id": "0e5157c2-9cf8-4b55-ac1f-cf6bf4591e9c"
    }
   },
   "outputs": [],
   "source": [
    "x = 10\n",
    "y = x\n",
    "# Grossièrement la fonction id retourne l'adressage mémoire de la variable sous forme d'int\n",
    "id(x) == id(y)  # retourne true car les deux objets pointent bien vers le même objet"
   ]
  },
  {
   "cell_type": "code",
   "execution_count": null,
   "metadata": {
    "nbpresent": {
     "id": "4df4178c-4c6f-471a-8b69-803976808c69"
    }
   },
   "outputs": [],
   "source": [
    "id(x),id(y)\n",
    "## Pour vérifier les adressages"
   ]
  },
  {
   "cell_type": "code",
   "execution_count": null,
   "metadata": {
    "nbpresent": {
     "id": "84a810bd-e4dd-4f59-ad08-f001ed962b14"
    }
   },
   "outputs": [],
   "source": [
    "# J'incrémente x. Attention ici je ne fais pas de la modification de variable comme on pourrait le croire, mais je lie\n",
    "# une nouvelle valeur à x ! En effet je fais bien maReference = une valeur\n",
    "x = x + 1\n",
    "# Vérification des adressages\n",
    "id(x) == id(y)"
   ]
  },
  {
   "cell_type": "code",
   "execution_count": null,
   "metadata": {
    "nbpresent": {
     "id": "22056a2a-3946-439b-a020-66d3bd1218fa"
    }
   },
   "outputs": [],
   "source": [
    "id(x),id(y)"
   ]
  },
  {
   "cell_type": "markdown",
   "metadata": {
    "nbpresent": {
     "id": "c63edd32-0379-45eb-aeff-419636626659"
    }
   },
   "source": [
    "Petite explication :\n",
    "- j'ai crée une variable x égale à 10 et une variable y égale à x.\n",
    "- j'ai changé la valeur à x, ce qui devrait changer celle de y car y=x\n",
    "- sauf que comme y est immutable il n'a pas subi la modification apportée à x.\n",
    "\n",
    "Pareil mais avec une liste (donc un object mutable)"
   ]
  },
  {
   "cell_type": "code",
   "execution_count": null,
   "metadata": {
    "nbpresent": {
     "id": "0157b103-3c20-4e9c-a865-d7501c8d50d1"
    }
   },
   "outputs": [],
   "source": [
    "poneys = [\"Twilght Sparkle\", \"Pinkie Pie\", \"Rainbow Dash\", \"Rarity\", \"Applejack\"]\n",
    "poneysBis = poneys\n",
    "id(poneys) == id(poneysBis)"
   ]
  },
  {
   "cell_type": "code",
   "execution_count": null,
   "metadata": {
    "nbpresent": {
     "id": "a6467e4f-5980-462e-accb-765058a92a71"
    }
   },
   "outputs": [],
   "source": [
    "poneys.append(\"Fluttershy\")\n",
    "id(poneys) == id(poneysBis)"
   ]
  },
  {
   "cell_type": "code",
   "execution_count": null,
   "metadata": {
    "nbpresent": {
     "id": "e172537e-6381-450d-8550-5f22f17d8588"
    }
   },
   "outputs": [],
   "source": [
    "poneys,poneysBis"
   ]
  },
  {
   "cell_type": "markdown",
   "metadata": {
    "nbpresent": {
     "id": "9d6225b4-1a57-429f-8898-63304e255fdc"
    }
   },
   "source": [
    "Avec des objets mutables modifier un objet va automatiquement tous les objets pointants vers le même objet en mémoire. Et même si cela à l'air super bien, je vous assure que par moment cela va vous poser problème car vous allez vouloir modifier un objet sans modifier ses clones (concept de *shallow copy* et *deep copy*)"
   ]
  },
  {
   "cell_type": "markdown",
   "metadata": {
    "collapsed": true,
    "nbpresent": {
     "id": "4885df5a-6442-4c4c-9b55-319de98a7933"
    }
   },
   "source": [
    "## Les structures de contrôle du flux\n",
    "\n",
    "Naturellement l'interpréteur python va exécuter les instructions les unes après les autres sans se poser de question et ainsi exécuter le programme de haut en bas. Si cela suffit pour des programmes très très simple, rapidement cela va poser des problèmes quand on va chercher à réutiliser des bouts de codes, ou en exécuter suivant des conditions.\n",
    "\n",
    "Il existe 3 structures de contrôle\n",
    "\n",
    "- Les conditions if:elif:else\n",
    "- Les boucles for/while\n",
    "- La gestions des execptions (non abordée)\n",
    "\n",
    "### Les blocs d'instruction\n",
    "\n",
    "En Python il n'y a pas de caractère spéciaux pour créer un bloc d'instructions à la différence de nombreux autres langages, à la place c'est l'indentation qui va faire foi. Ainsi pour définir un bloc cohérent d'instruction il va falloir faire\n",
    "\n",
    "```python\n",
    "structure de controle :\n",
    "  instruction 1\n",
    "  instruction 2\n",
    "```\n",
    "\n",
    "### Les conditions if:elif:else\n",
    "\n",
    "Cette structure est à utiliser quand vous souhaiter exécuter une bout de code quand une condition est remplie. Voici sa forme générale\n",
    "\n",
    "```python\n",
    "if expression1:\n",
    "  #some code\n",
    "elif expressionn2:\n",
    "  #some code\n",
    "elif expression3:\n",
    "  #some code\n",
    "  ...\n",
    "else :\n",
    "  #some code\n",
    "```\n",
    "\n",
    "A part la condition if initiale qui est nécessaire, les autres sont parfaitements optionnelles. Pyhton va exécuter la première expression et si elle renvoit True exécuter le premier bloc puis sortir de la structutre if:elif:else. Si elle renvoit False, alors c'est la seconde expression qui sera calculée et ainsi de suite jusqu'à arriver au bloc else qui sera exécuter si toutes les conditions sont fausses. Voici quelques exemples :"
   ]
  },
  {
   "cell_type": "code",
   "execution_count": null,
   "metadata": {
    "nbpresent": {
     "id": "953ece54-1f67-46a5-8fad-ae84a521c383"
    }
   },
   "outputs": [],
   "source": [
    "x = 7\n",
    "if x<0:\n",
    "    print(\"x est négatif\")\n",
    "elif x%2==0:\n",
    "     print(\"x est positif et pair\")\n",
    "else:\n",
    "     print(\"x est positif et impair\")"
   ]
  },
  {
   "cell_type": "markdown",
   "metadata": {
    "nbpresent": {
     "id": "88725b32-6444-4fac-8d4a-d14b584e1704"
    }
   },
   "source": [
    "Notez que comme le code chaque bloc d'instruction ne fait qu'une ligne cela peut être réécrit en :"
   ]
  },
  {
   "cell_type": "code",
   "execution_count": null,
   "metadata": {
    "nbpresent": {
     "id": "4f9fb4d3-6f3c-4a28-9fb0-4ba11573b007"
    }
   },
   "outputs": [],
   "source": [
    "x = 7\n",
    "if x<0: print(\"x est négatif\")\n",
    "elif x%2==0: print(\"x est positif et pair\")\n",
    "else: print(\"x est positif et impair\")"
   ]
  },
  {
   "cell_type": "markdown",
   "metadata": {
    "nbpresent": {
     "id": "429bc222-0273-4977-8109-0043e885adcc"
    }
   },
   "source": [
    "Mais je déconseille cette écriture car elle est plus dure à lire et ne fait pas gagner beaucoup de temps/espace"
   ]
  },
  {
   "cell_type": "code",
   "execution_count": null,
   "metadata": {
    "nbpresent": {
     "id": "70b30924-18a3-4f3f-8820-7b6436ba2ff0"
    }
   },
   "outputs": [],
   "source": [
    "connection = True\n",
    "if connection :\n",
    "    print(\"Vous êtes connecté\")\n",
    "else : \n",
    "    print (\"Erreur d'authentification\")"
   ]
  },
  {
   "cell_type": "code",
   "execution_count": null,
   "metadata": {
    "nbpresent": {
     "id": "03b99a04-d1e5-4358-949a-7c796c96dc03"
    }
   },
   "outputs": [],
   "source": [
    "connection = False\n",
    "if connection :\n",
    "    print(\"Vous êtes connecté\")"
   ]
  },
  {
   "cell_type": "markdown",
   "metadata": {
    "nbpresent": {
     "id": "92aa8ca9-cac2-4a49-be10-0f2be4f5f7f8"
    }
   },
   "source": [
    "L'expression à evaluer qui suit le if ou le elif doit retourner un booléen. Ainsi, si c'est déjà un booléen (comme les deux exemple au dessus), pas besoin de faire un test d'égalité avec True ou False.\n",
    "\n",
    "Comme dit plus haut n'importe quel type de données peut-être transtypé en boolean, et Python va le faire naturellement quand il attend un boolean. Ainsi les instructions suivant fonctionne mais il faut faire attention. Par exemple si je veux tester si un nombre est pair et que j'écris :"
   ]
  },
  {
   "cell_type": "code",
   "execution_count": null,
   "metadata": {
    "nbpresent": {
     "id": "a8fd24ed-a619-4b26-b5da-49ab6b23356d"
    }
   },
   "outputs": [],
   "source": [
    "nombreATester = 10\n",
    "if nombreATester%2:\n",
    "    print(\"Mon nombre est pair\")\n",
    "else :\n",
    "    print (\"Mon nombre est impair\")"
   ]
  },
  {
   "cell_type": "markdown",
   "metadata": {
    "nbpresent": {
     "id": "cf3b95e8-a940-4cb7-a94d-9c4f8adcaa18"
    }
   },
   "source": [
    "Il y a un problème. Cela provient du fait que python à evaluer 10%2 qui vaut 0 puis l'a transtypé en boolean ce qui a retourné False. Ainsi il faut bien faire le code suivant pour tester si un nombre est pair"
   ]
  },
  {
   "cell_type": "code",
   "execution_count": null,
   "metadata": {
    "nbpresent": {
     "id": "dd31e7e6-2246-425e-aa5d-c52e696f1c84"
    }
   },
   "outputs": [],
   "source": [
    "if nombreATester%2:\n",
    "    print(\"Mon nombre est pair\")\n",
    "else :\n",
    "    print (\"Mon nombre est impair\")"
   ]
  },
  {
   "cell_type": "markdown",
   "metadata": {
    "nbpresent": {
     "id": "1cb15d1e-0f3d-4867-812f-c09f0c7e646b"
    }
   },
   "source": [
    "Gardez en tête ceci :\n",
    "- valeur non égale à 0, non vide, non None => True\n",
    "- 0, vide, None -> False"
   ]
  },
  {
   "cell_type": "markdown",
   "metadata": {
    "nbpresent": {
     "id": "175ebc78-2bd8-4a94-b459-7a9f3b67a3a7"
    }
   },
   "source": [
    "### Les boucles for/while\n",
    "\n",
    "#### Boucle while\n",
    "\n",
    "Une boucle while va répéter un bloc d'instruction tant qu'une condition est vraie. Voici ça syntaxe\n",
    "\n",
    "```python\n",
    "while expression:\n",
    "    #some code\n",
    "```\n",
    "\n",
    "Quelques exemples :"
   ]
  },
  {
   "cell_type": "code",
   "execution_count": null,
   "metadata": {
    "nbpresent": {
     "id": "337751b3-fbbb-4ffb-b41e-09da801857ec"
    }
   },
   "outputs": [],
   "source": [
    "phrase = \"Hello world\"\n",
    "i = 0\n",
    "while phrase[i]!=\" \": # On affiche les caractères tant que l'on a pas rencontré un espace\n",
    "    print(phrase[i])\n",
    "    i += 1\n"
   ]
  },
  {
   "cell_type": "code",
   "execution_count": null,
   "metadata": {
    "nbpresent": {
     "id": "96e0776b-a257-489a-afdf-e9e48c0693e2"
    }
   },
   "outputs": [],
   "source": [
    "ct =2\n",
    "while ct <= 8:\n",
    "    print (ct , end =\" \") # Pour rester sur la même ligne\n",
    "    ct = ct + 2"
   ]
  },
  {
   "cell_type": "markdown",
   "metadata": {
    "nbpresent": {
     "id": "8b2728ca-b997-4e8e-8b0f-0687f00e19e4"
    }
   },
   "source": [
    "#### Boucle for\n",
    "\n",
    "Une boucle for va répéter un bloc d'instruction pour une liste d'éléments sur laquelle on peut itérer. Ça syntaxe de base est\n",
    "\n",
    "```python\n",
    "for target in liste:\n",
    "    #some code\n",
    "```\n",
    "\n",
    "Voici différents exemples :"
   ]
  },
  {
   "cell_type": "code",
   "execution_count": null,
   "metadata": {
    "nbpresent": {
     "id": "904ab059-63cf-43f5-bd62-2f8b48565318"
    }
   },
   "outputs": [],
   "source": [
    "# On itère sur une chaine de caractère\n",
    "for letter in \"Twilight Sparkle\":\n",
    "    print (letter)"
   ]
  },
  {
   "cell_type": "code",
   "execution_count": null,
   "metadata": {
    "nbpresent": {
     "id": "72b2dceb-3a92-4027-a4c7-a99d3cc75e5a"
    },
    "scrolled": true
   },
   "outputs": [],
   "source": [
    "# On itère sur une liste\n",
    "for poney in [\"Twilght Sparkle\", \"Pinkie Pie\", \"Rainbow Dash\", \"Rarity\", \"Applejack\"]:\n",
    "    print(poney, end=\", \")"
   ]
  },
  {
   "cell_type": "code",
   "execution_count": null,
   "metadata": {
    "nbpresent": {
     "id": "89700de0-785e-4e62-9a80-1269be1f230e"
    }
   },
   "outputs": [],
   "source": [
    "# On itère sur les 50 premiers entiers\n",
    "for i in range(50):\n",
    "    if i%10 == 0 :\n",
    "        print(i, \" est multiple de 10\")"
   ]
  },
  {
   "cell_type": "code",
   "execution_count": null,
   "metadata": {
    "nbpresent": {
     "id": "0d444186-48b3-48fc-98a8-b38389ba99fd"
    }
   },
   "outputs": [],
   "source": [
    "# On itère sur les 1 à 50 premiers entiers\n",
    "for i in range(1,50):\n",
    "    if i%10 == 0 :\n",
    "        print(i, \" est multiple de 10\")"
   ]
  },
  {
   "cell_type": "code",
   "execution_count": null,
   "metadata": {
    "nbpresent": {
     "id": "bdf5e27a-bf1d-41c4-b152-c2227b03acaa"
    }
   },
   "outputs": [],
   "source": [
    "for i in range(1,15, 5):\n",
    "        print(i)"
   ]
  },
  {
   "cell_type": "markdown",
   "metadata": {
    "nbpresent": {
     "id": "4af4658c-b682-4472-9808-1d060a9356b2"
    }
   },
   "source": [
    "#### Quand utiliser les boucle for et while\n",
    "\n",
    "S'il y a deux types de boucle c'est qu'il y a une raison. Bien qu'on puisse les interchanger car fondamentalement elles font la même chose, la logique derrière est différente.\n",
    "\n",
    "Une boucle for vous permet d'itérer sur tous les éléments d'une collection d'objet (list, set, map ...). Dans un cas où vous voulez appliquer des instructions sur tous les éléments d'une collection d'objet alors la boucle for est le bon choix.\n",
    "\n",
    "Si par contre vous voulez exécuter un bout de code tant qu'une conditione st vrai alors c'est une boucle while (les noms aide beaucoup à comprendre l'utilité des boucles).\n",
    "\n",
    "Globalement voici un moyen de décider assez facile :\n",
    "- Si vous savez exactement le nombre d'itération à l'avance => for\n",
    "- Sinon while"
   ]
  },
  {
   "cell_type": "markdown",
   "metadata": {
    "nbpresent": {
     "id": "1a28bfbc-ff83-4e69-8975-7c6034f1925d"
    }
   },
   "source": [
    "#### Les instructions break et continue\n",
    "\n",
    "Par moment vous allez avoir besoin de sauter ou de sortir prématurement de vos boucles, pour cela vous avez les instructions break (sortir de la structure) et continue (sauter une étape).\n",
    "\n",
    "> À titre personnel je déconseille leur utilisation. En effet si dans de rare cas elles peuvent être utile, dans d'autre elles rajoute de la complexité cognitive au programme en le rendant plus dur à comprendre et analyser. Et globalement je pense qu'utiliser un break implique d'avoir pris une boucle for alors qu'il fallait une while.\n",
    "\n",
    "##### break\n",
    "\n",
    "Comme dit au dessus, un break permet de sortir d'une boucle. Dans le cas de boucle imbriquée cela permet de sortir uniquement de la boucle dans laquelle vous vous trouvez.\n",
    "\n",
    "Exemple :"
   ]
  },
  {
   "cell_type": "code",
   "execution_count": null,
   "metadata": {
    "nbpresent": {
     "id": "73368181-c000-4b91-89da-76e988eb78c9"
    }
   },
   "outputs": [],
   "source": [
    "i = 0\n",
    "print(\"Je rentre dans la boucle\")\n",
    "while True : #toujours vrai, donc on reste dans la boucle pour toujours (c'est une mauvaise pratique !!!!!)\n",
    "    i+=1\n",
    "    if i>10 :\n",
    "        break\n",
    "    print(\"working\")\n",
    "print(\"the end\")"
   ]
  },
  {
   "cell_type": "markdown",
   "metadata": {
    "nbpresent": {
     "id": "dee36181-4ac1-46ef-8160-0f0f70cc4192"
    }
   },
   "source": [
    "##### continue\n",
    "\n",
    "A la différence de break, continue permet de terminer l'étape en cours, mais on reste dans la boucle\n",
    "\n",
    "Exemple : "
   ]
  },
  {
   "cell_type": "code",
   "execution_count": null,
   "metadata": {
    "nbpresent": {
     "id": "a99d9a36-06fb-4ba3-a0bf-1e429382b3a0"
    }
   },
   "outputs": [],
   "source": [
    "for c in \" Twilight Sparkle \": # Exemple continue\n",
    "    if (c == \"i\") :\n",
    "        continue\n",
    "    print (c, end=\"\")\n"
   ]
  },
  {
   "cell_type": "markdown",
   "metadata": {
    "nbpresent": {
     "id": "3c975b2e-df3e-4e34-a650-7c68c8f46a71"
    }
   },
   "source": [
    "#### L'instruction else en fin de boucle\n",
    "\n",
    "Il est possible de rajouter une instruction else à la fin d'une boucle. Le code à la fin du else sera exécuter uniquement dans la boucle s'arrêtera naturellement (donc sans un break ou une erreur). Voilà à quoi ça ressemble :"
   ]
  },
  {
   "cell_type": "code",
   "execution_count": null,
   "metadata": {
    "nbpresent": {
     "id": "6b278db9-618e-485a-b6a1-e8c1914c1b2c"
    }
   },
   "outputs": [],
   "source": [
    "for c in \" Twilight Sparkle \": # Exemple continue\n",
    "    if (c == \"i\") :\n",
    "        continue\n",
    "    print (c, end=\"\")\n",
    "else :\n",
    "    print(\"On est rentré dans le else\")"
   ]
  },
  {
   "cell_type": "code",
   "execution_count": null,
   "metadata": {
    "nbpresent": {
     "id": "145a328c-cb45-4925-8718-43d414e00771"
    }
   },
   "outputs": [],
   "source": [
    "for c in \" Twilight Sparkle \": # Exemple continue\n",
    "    if (c == \"i\") :\n",
    "        break\n",
    "    print (c, end=\"\")\n",
    "else :\n",
    "    print(\"On est rentré dans le else\")"
   ]
  },
  {
   "cell_type": "markdown",
   "metadata": {
    "collapsed": true,
    "nbpresent": {
     "id": "0899c7c4-02fc-42aa-9430-73162d6e0f84"
    }
   },
   "source": [
    "## Les fonctions\n",
    "\n",
    "Dernière notion de base de l'algorithmique, les fonctions. Les fonctions sont des blocs de code que vous allez pouvoir exécuter à la demande. Une fonction peut prendre des paramètres en entrée (mais ce n'est pas obligé), et elle peut retourner une valeur en sortie (mais ce n'est pas obligé). Elles servent uniquement à mieux organiser votre code et à le rendre plus lisible. En effet des fonctions bien faite sont des fonctions qui font peut de chose avec un nom clair sur leur utilité. Théoriquement il doit être possible de savoir ce que fait une fonction juste avec son nom.\n",
    "\n",
    "### Création du fonction\n",
    "\n",
    "Voici la syntaxe pour créer une fonction. Avec :\n",
    "- def : un mon clef propre à pyhton permettant de déclarer une fonction\n",
    "- maFonction : le nom de ma fonction\n",
    "- parametres : une liste optionnelle de paramètres non typé. \n",
    "- #some code : un bloc d'instruction python quelconque\n",
    "- return : le mot clef qui permet de dire ce que la fonction renvoie. Attention, une fois le return exécuté on sort de la fonction\n",
    "- result : une valeur que je retourne"
   ]
  },
  {
   "cell_type": "code",
   "execution_count": null,
   "metadata": {
    "collapsed": true,
    "nbpresent": {
     "id": "3ccce439-ead5-4732-8189-cfc9668ce2ee"
    }
   },
   "outputs": [],
   "source": [
    "def maFonction (parametres) :\n",
    "    #some code\n",
    "    return result"
   ]
  },
  {
   "cell_type": "markdown",
   "metadata": {
    "nbpresent": {
     "id": "c334ce4d-2872-4f0f-9b3c-d123ba8eda53"
    }
   },
   "source": [
    "Voici quelques exemples de fonction :"
   ]
  },
  {
   "cell_type": "code",
   "execution_count": null,
   "metadata": {
    "nbpresent": {
     "id": "1e808965-a7c7-40d7-8d09-41d82cf258ee"
    }
   },
   "outputs": [],
   "source": [
    "# Fonction basique avec 2 paramètres\n",
    "def multiply (a, b) :\n",
    "    \"\"\" retourne le produit de a par b \"\"\"\n",
    "    return a*b\n",
    "\n",
    "multiply (5,3)"
   ]
  },
  {
   "cell_type": "code",
   "execution_count": null,
   "metadata": {
    "nbpresent": {
     "id": "51e4aaa4-3b24-432e-a80a-0844faee88e6"
    }
   },
   "outputs": [],
   "source": [
    "# Fonction utilisant des paramètres optionnels. Le symbole * avant le nom du paramètre permet de dire que le paramètre est\n",
    "# optionnel et qu'on peut en mettre autant qu'on le souhaite. Ils seront naturellement converti en tuple (liste non mutable)\n",
    "def sumArgs (*numbers) :\n",
    "    \"\"\" -Affiche le type du paramètre en entrée\n",
    "        -calcule et retourne la somme des nombres passé en paramètre\"\"\"\n",
    "    print (type(numbers))\n",
    "    finalSum = 0\n",
    "    for number in numbers :\n",
    "        finalSum += number\n",
    "    return finalSum\n",
    "\n",
    "print(sum_args (1,2,3,4,5,6,7,8,9))\n",
    "print(sum_args ())\n"
   ]
  },
  {
   "cell_type": "code",
   "execution_count": null,
   "metadata": {
    "nbpresent": {
     "id": "67b09128-82d7-44e6-be80-b6716efe7b3d"
    }
   },
   "outputs": [],
   "source": [
    "# Fonction basique avec 2 paramètres, dont un optionnel. Il prendre la valeur par défaut 2 si non reseigné à l'appel \n",
    "# de la fonction\n",
    "def power (a, b=2) :\n",
    "    \"\"\"Retourne a^b avec b=2 par défaut\"\"\"\n",
    "    return a**b\n",
    "\n",
    "print(power (5,3))\n",
    "print(power (5))"
   ]
  },
  {
   "cell_type": "code",
   "execution_count": null,
   "metadata": {
    "nbpresent": {
     "id": "f55eb942-4f3b-42cc-85a2-98b46698c306"
    }
   },
   "outputs": [],
   "source": [
    "# Fonction qui retourne plusieurs valeurs sous forme d'un tuple\n",
    "def euclideanDivision (dividend, divisor) :\n",
    "    \"\"\"Retourne le couple quotient, reste de la division euclidienne de dividend par divisor\"\"\"\n",
    "    quotient = None\n",
    "    remainder = None\n",
    "    if divisor : # test si le denominateur n'est pas 0\n",
    "        quotient = dividend//divisor\n",
    "        remainder = dividend%divisor\n",
    "    return quotient, remainder\n",
    "\n",
    "euclideanDivision (97,8)"
   ]
  },
  {
   "cell_type": "markdown",
   "metadata": {
    "nbpresent": {
     "id": "060f162d-183c-44be-b754-43efb4b6da1b"
    }
   },
   "source": [
    "### Appel d'une fonction\n",
    "\n",
    "Fait dans les exemples au dessus, pour appeler une fonction il suffit juste d'utiliser le nom que vous lui avez donnée et de passer les paramètres entre parenthèse.\n",
    "\n",
    "### Notes \n",
    "\n",
    "- Le corps d'une fonction ne peut pas être vide. Si un tel cas se présent utilisez l'instruction pass\n",
    "- Le nom des fonctions doit être unique. Deux fonctions ne pevent pas partager le même nom même si leur nombre de paramètres est différent ( /!\\ cela deviendra possible quand vous verrez python orienté objet)\n",
    "- Si une fonction en renvoie rien il est possible de se passer de l'isntruction return. Dans ce cas la fonction retournera None\n",
    "- De la même manière que vous ne typez pas les variables lors de leur déclaration, on ne type pas les variables en paramètre des fonctions.\n",
    "- Pour que votre code soit lisible, vos nom de fonction doivent être signifiant\n",
    "- Vous pouvez (et dans un vrai projet devez) rajouter une docstrings à vos fonctions. Elle est entre \"\"\" et doit contenir une explication rapide de ce que fait votre fonction."
   ]
  },
  {
   "cell_type": "code",
   "execution_count": null,
   "metadata": {
    "nbpresent": {
     "id": "df494851-e016-4f5c-8ae3-25bea856d004"
    }
   },
   "outputs": [],
   "source": [
    "def multiply (a, b,c) :\n",
    "    return a*b*c\n",
    "\n",
    "def multiply (a, b) :\n",
    "    return a*b\n",
    "\n",
    "multiply (2,3,4)\n",
    "multiply (2,3)"
   ]
  },
  {
   "cell_type": "markdown",
   "metadata": {},
   "source": [
    "## Les modules\n",
    "\n",
    "Les modules permettent d'éclater votre code entre différents fichiers pour qu'il soit plus lisible et maintenable. Un peu comme les fonctions, chaque module va contenir du code relatif à un thème ou un type de manipulation. Plus factuellement, un module est un fichier *.py* qui peut contenir des variables, des fonctions, des classes (cf python orienté objet au second semestre). Ce fichier peut être appelé par votre programma principal ou un autre module. Python dispose de bases de plusieurs modules importables mais rapidement pour des tache spécifique (machine larning par exemple), vous aller devoir télécharger des module supplémentaire.\n",
    "\n",
    "Pour réaliser un import deux syntaxes :\n",
    "\n",
    "- ```python\n",
    "   import modname [as alias]\n",
    "  ```\n",
    "  Permet d'importer le module souhaité en entier et de l'utiliser en préfixant l'objet que l'on souhaite utiliser par le nom du   module. Par exemple"
   ]
  },
  {
   "cell_type": "code",
   "execution_count": null,
   "metadata": {},
   "outputs": [],
   "source": [
    "import math\n",
    "math.sin(1)"
   ]
  },
  {
   "cell_type": "markdown",
   "metadata": {},
   "source": [
    "Il est également possible de donner un alias au module et d'utiliser l'alias par la suite"
   ]
  },
  {
   "cell_type": "code",
   "execution_count": null,
   "metadata": {},
   "outputs": [],
   "source": [
    "import math as m\n",
    "m.sin(1)"
   ]
  },
  {
   "cell_type": "markdown",
   "metadata": {},
   "source": [
    "- ```python\n",
    "  from modname import attname [as alias]\n",
    "  ```\n",
    " Permet d'importer seulement certains attributs (variables, fonctions, classes) d'un module."
   ]
  },
  {
   "cell_type": "code",
   "execution_count": null,
   "metadata": {},
   "outputs": [],
   "source": [
    "from math import sin\n",
    "sin(1)"
   ]
  },
  {
   "cell_type": "markdown",
   "metadata": {},
   "source": [
    "Il est également possible de donner un alias l'attribut importé"
   ]
  },
  {
   "cell_type": "code",
   "execution_count": null,
   "metadata": {},
   "outputs": [],
   "source": [
    "from math import sin as sinus\n",
    "sinus(1)"
   ]
  },
  {
   "cell_type": "markdown",
   "metadata": {},
   "source": [
    "Il est aussi possible d'importer tout un module avec une syntaxe from"
   ]
  },
  {
   "cell_type": "code",
   "execution_count": null,
   "metadata": {},
   "outputs": [],
   "source": [
    "from math import *\n",
    "sin(1)"
   ]
  },
  {
   "cell_type": "markdown",
   "metadata": {},
   "source": [
    "> **import ... vs from ... import ...**\n",
    ">\n",
    "> Comme vous avez pu le constater avec la syntaxe from ... import ... pas besoin de répéter le nom du module que l'on utilise lors de l'invocation d'un attribut. Si cela peut sembler une bonne chose ce n'est pas vrai. En effet cela pose deux problèmes\n",
    "> - On ne sait pas si l'attribut est interne ou externe à notre script\n",
    "> - Un attribut externe peut rentrer en concurence avec un attribut interne (surtout avec un from module import \\*)\n",
    "> Néanmoins, la syntaxe from ... import ... permet d'importer que des attributs spécifiques. Donc je vous conseilles d'utiliser from ... import ... avec une liste d'attributs (jamais \\*) quand vous êtes sur d'une absence de conflit, et sinon la syntaxe import."
   ]
  },
  {
   "cell_type": "markdown",
   "metadata": {},
   "source": [
    "## Récursivité"
   ]
  },
  {
   "cell_type": "code",
   "execution_count": null,
   "metadata": {
    "collapsed": true
   },
   "outputs": [],
   "source": []
  }
 ],
 "metadata": {
  "anaconda-cloud": {},
  "kernelspec": {
   "display_name": "Python [default]",
   "language": "python",
   "name": "python3"
  },
  "language_info": {
   "codemirror_mode": {
    "name": "ipython",
    "version": 3
   },
   "file_extension": ".py",
   "mimetype": "text/x-python",
   "name": "python",
   "nbconvert_exporter": "python",
   "pygments_lexer": "ipython3",
   "version": "3.5.2"
  },
  "nbpresent": {
   "slides": {},
   "themes": {}
  }
 },
 "nbformat": 4,
 "nbformat_minor": 1
}
